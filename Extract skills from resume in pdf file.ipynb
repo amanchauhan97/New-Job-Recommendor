{
 "cells": [
  {
   "cell_type": "code",
   "execution_count": 66,
   "metadata": {},
   "outputs": [],
   "source": [
    "from flask import Flask,request,jsonify\n",
    "import pandas as pd\n",
    "import numpy as np\n",
    "import warnings\n",
    "import csv\n",
    "from nltk.tokenize import word_tokenize\n",
    "from nltk.corpus import stopwords\n",
    "import string\n",
    "from nltk.stem.wordnet import WordNetLemmatizer\n",
    "import os\n",
    "from glob import glob\n",
    "import nltk\n",
    "import requests\n",
    "from pdfminer3.pdfinterp import PDFResourceManager, PDFPageInterpreter\n",
    "from pdfminer3.converter import TextConverter\n",
    "from pdfminer3.layout import LAParams\n",
    "from pdfminer3.pdfpage import PDFPage\n",
    "from io import StringIO"
   ]
  },
  {
   "cell_type": "code",
   "execution_count": 67,
   "metadata": {},
   "outputs": [
    {
     "name": "stdout",
     "output_type": "stream",
     "text": [
      "36\n"
     ]
    },
    {
     "data": {
      "text/plain": [
       "['php',\n",
       " 'html',\n",
       " 'css',\n",
       " 'javascript',\n",
       " 'python',\n",
       " 'mongodb',\n",
       " 'nodejs',\n",
       " 'java',\n",
       " 'sql',\n",
       " 'c',\n",
       " 'adobe',\n",
       " 'photoshop',\n",
       " 'unity',\n",
       " 'physics',\n",
       " 'imageprocessing',\n",
       " 'ios',\n",
       " 'android',\n",
       " 'jquery',\n",
       " 'bootstrap',\n",
       " 'django',\n",
       " 'angularjs',\n",
       " 'dbms',\n",
       " 'ml',\n",
       " 'rprogramming',\n",
       " 'linux',\n",
       " 'unix',\n",
       " 'embeddedsystem',\n",
       " 'cpp',\n",
       " 'iot',\n",
       " 'hadoop',\n",
       " 'cloudcomputing',\n",
       " 'aws',\n",
       " 'wordpress',\n",
       " 'json',\n",
       " 'datastructures',\n",
       " 'reactjs',\n",
       " 'swift']"
      ]
     },
     "execution_count": 67,
     "metadata": {},
     "output_type": "execute_result"
    }
   ],
   "source": [
    " unique_skills = ['php']\n",
    "\n",
    "df = pd.read_csv('unique_skills.csv')\n",
    "\n",
    "rowno , colno = df.shape\n",
    "print(rowno)\n",
    "\n",
    "arr = df.values.tolist()\n",
    "\n",
    "for a in arr:\n",
    "    unique_skills.append(a[0])\n",
    "\n",
    "unique_skills\n"
   ]
  },
  {
   "cell_type": "code",
   "execution_count": 68,
   "metadata": {},
   "outputs": [],
   "source": [
    "class PdfConverter:\n",
    "\n",
    "    def __init__(self, file_path):\n",
    "        self.file_path = file_path\n",
    "        # convert pdf file to a string which has space among words\n",
    "    def convert_pdf_to_txt(self):\n",
    "        rsrcmgr = PDFResourceManager()\n",
    "        retstr = StringIO()\n",
    "        codec = 'utf-8'  # 'utf16','utf-8'\n",
    "        laparams = LAParams()\n",
    "        device = TextConverter(rsrcmgr, retstr, codec=codec, laparams=laparams)\n",
    "        fp = open(self.file_path, 'rb')\n",
    "        interpreter = PDFPageInterpreter(rsrcmgr, device)\n",
    "        password = \"\"\n",
    "        maxpages = 0\n",
    "        caching = True\n",
    "        pagenos = set()\n",
    "        for page in PDFPage.get_pages(fp, pagenos, maxpages=maxpages, password=password, caching=caching, check_extractable=True):\n",
    "            interpreter.process_page(page)\n",
    "        fp.close()\n",
    "        device.close()\n",
    "        str = retstr.getvalue()\n",
    "        retstr.close()\n",
    "        return str\n",
    "        # convert pdf file text to string and save as a text_pdf.txt file\n",
    "    def save_convert_pdf_to_txt(self):\n",
    "        content = self.convert_pdf_to_txt()\n",
    "        txt_pdf = open('text_pdf.txt', 'wb')\n",
    "        txt_pdf.write(content.encode('utf-8'))\n",
    "        txt_pdf.close()\n"
   ]
  },
  {
   "cell_type": "code",
   "execution_count": 76,
   "metadata": {},
   "outputs": [],
   "source": [
    "def get_skills():\n",
    "    \n",
    "    files = [f for f in os.listdir('.') if os.path.isfile(f) and f.endswith('.pdf')]\n",
    "\n",
    "    list_of_files = []\n",
    "    for x in files:\n",
    "        list_of_files.append(x)\n",
    "\n",
    "    for x in list_of_files:\n",
    "        print(x)\n",
    "\n",
    "    my_df = pd.DataFrame()#columns=[\"name\",\"skills\"])\n",
    "    my_df.to_csv('my_csv.csv',index=True,header=True)\n",
    "\n",
    "    read_files = []\n",
    "    tobeRelated = []\n",
    "    p = []\n",
    "    for reading_file in list_of_files:\n",
    "        if reading_file not in read_files:\n",
    "\n",
    "            read_files.append(reading_file)\n",
    "\n",
    "            pdfConverter = PdfConverter(file_path = reading_file)\n",
    "            text = pdfConverter.convert_pdf_to_txt()\n",
    "            pdfConverter.save_convert_pdf_to_txt()\n",
    "\n",
    "            tokens = word_tokenize(text)\n",
    "\n",
    "            tokens = [w.lower() for w in tokens]\n",
    "            stop_words = set(stopwords.words('english'))\n",
    "            stop_words.update(('know','learn','work'))\n",
    "            tokens = [word for word in tokens if not word in stop_words]\n",
    "\n",
    "            tokens = [''.join(c for c in s if c not in string.punctuation) for s in tokens]\n",
    "            tokens = [c for c in tokens if c]\n",
    "\n",
    "            y = ['●']\n",
    "            x = []\n",
    "            for a in tokens:\n",
    "                if not a in y and not a in x:\n",
    "                    x.append(a)\n",
    "\n",
    "            tokens = x\n",
    "\n",
    "            start = tokens.index(\"skills\")\n",
    "            end = tokens.index(\"experience\")\n",
    "            skills = tokens[start+1:end]\n",
    "            space = \" \"\n",
    "            additional = ['development','programming','learning']\n",
    "            for i in range(0,len(skills)):\n",
    "                if skills[i] in additional:\n",
    "                    skills[i-1] = skills[i-1] +space + skills[i]\n",
    "                    skills[i] = \"*\"\n",
    "\n",
    "            l=[]\n",
    "            for x in skills:\n",
    "                if x != '*':\n",
    "                    l.append(x)\n",
    "\n",
    "            skills = l\n",
    "            lmtzr = WordNetLemmatizer()\n",
    "            for i in range(len(skills)):\n",
    "                skills[i] = lmtzr.lemmatize(skills[i])\n",
    "                \n",
    "\n",
    "            print(\"Skills = \",skills)\n",
    "            \n",
    "            tobeRelated = [i  for i,j in enumerate(unique_skills) if j in skills]\n",
    "        \n",
    "            \n",
    "            af = []\n",
    "            for i in tobeRelated:\n",
    "                af.append(i)\n",
    "            p.append(af)\n",
    "\n",
    "   \n",
    "    my_df = pd.DataFrame(p)\n",
    "    with open('tobeRelated.csv','w') as f:\n",
    "        my_df.to_csv(f,header=True,index=False)\n",
    "\n",
    "    return skills , tobeRelated"
   ]
  },
  {
   "cell_type": "code",
   "execution_count": 77,
   "metadata": {},
   "outputs": [
    {
     "name": "stdout",
     "output_type": "stream",
     "text": [
      "Resume.pdf\n",
      "Skills =  ['javascript', 'python', 'django']\n"
     ]
    },
    {
     "data": {
      "text/plain": [
       "(['javascript', 'python', 'django'], [3, 4, 19])"
      ]
     },
     "execution_count": 77,
     "metadata": {},
     "output_type": "execute_result"
    }
   ],
   "source": [
    "get_skills()"
   ]
  },
  {
   "cell_type": "code",
   "execution_count": null,
   "metadata": {},
   "outputs": [],
   "source": []
  }
 ],
 "metadata": {
  "kernelspec": {
   "display_name": "Python 3",
   "language": "python",
   "name": "python3"
  },
  "language_info": {
   "codemirror_mode": {
    "name": "ipython",
    "version": 3
   },
   "file_extension": ".py",
   "mimetype": "text/x-python",
   "name": "python",
   "nbconvert_exporter": "python",
   "pygments_lexer": "ipython3",
   "version": "3.7.6"
  }
 },
 "nbformat": 4,
 "nbformat_minor": 4
}
